{
 "cells": [
  {
   "cell_type": "markdown",
   "metadata": {},
   "source": [
    "# 17 April"
   ]
  },
  {
   "cell_type": "code",
   "execution_count": 4,
   "metadata": {},
   "outputs": [
    {
     "name": "stdout",
     "output_type": "stream",
     "text": [
      "seh dinginnya hari ini\n"
     ]
    }
   ],
   "source": [
    "suhu = int(input('23: '))\n",
    " # kondisi untuk mengecek suhu\n",
    "\n",
    "if suhu < 27: # kondisi harus benar\n",
    "    print('seh dinginnya hari ini')"
   ]
  },
  {
   "cell_type": "code",
   "execution_count": 1,
   "metadata": {},
   "outputs": [
    {
     "name": "stdout",
     "output_type": "stream",
     "text": [
      "panas bingits loh\n"
     ]
    }
   ],
   "source": [
    "suhu = 35\n",
    "kelembaban = 75\n",
    "if suhu > 30 or kelembaban > 75:\n",
    "    print('panas bingits loh')"
   ]
  },
  {
   "cell_type": "code",
   "execution_count": 5,
   "metadata": {},
   "outputs": [
    {
     "name": "stdout",
     "output_type": "stream",
     "text": [
      "dingin lord!!\n"
     ]
    }
   ],
   "source": [
    "suhu = int(input('masukan suhu'))\n",
    "if suhu < 20: #true\n",
    "    print('dingin lord!!')\n",
    "elif 20 <= suhu <= 3: #true atau bisa suhu =>20\n",
    "    print('cakung ges ya!')\n",
    "else:\n",
    "    print('gersang? minum air')"
   ]
  },
  {
   "cell_type": "code",
   "execution_count": 6,
   "metadata": {},
   "outputs": [
    {
     "name": "stdout",
     "output_type": "stream",
     "text": [
      "bentar afk dulu\n"
     ]
    }
   ],
   "source": [
    "cuaca_tudei = ['gersang', 'cakung', 'germiris']\n",
    "\n",
    "if 'cakung' in cuaca_tudei:\n",
    "    pass\n",
    "\n",
    "print('bentar afk dulu')"
   ]
  },
  {
   "cell_type": "markdown",
   "metadata": {},
   "source": []
  },
  {
   "cell_type": "code",
   "execution_count": null,
   "metadata": {},
   "outputs": [],
   "source": [
    "cuaca = 'sanap'\n",
    "waktu = input('tentukan malam/siang: ')\n",
    "\n",
    "if cuaca == 'sanap':\n",
    "    if waktu == 'siang'\n"
   ]
  },
  {
   "cell_type": "code",
   "execution_count": 7,
   "metadata": {},
   "outputs": [
    {
     "name": "stdout",
     "output_type": "stream",
     "text": [
      "cuaca sanap, pengen mandi\n"
     ]
    }
   ],
   "source": [
    "suhu = 35\n",
    "pesan = 'cuaca sanap, pengen mandi' if suhu > 30 else \"cuaca buruk\"\n",
    "print(pesan)"
   ]
  },
  {
   "cell_type": "code",
   "execution_count": 8,
   "metadata": {},
   "outputs": [
    {
     "name": "stdout",
     "output_type": "stream",
     "text": [
      "10\n",
      "9\n",
      "8\n",
      "7\n",
      "6\n",
      "5\n",
      "4\n",
      "3\n",
      "2\n",
      "1\n"
     ]
    }
   ],
   "source": [
    "i= 10 # LOOPING AUTO NGITUNG GES YA!!\n",
    "while i > 0: # batas berenti looping\n",
    "    print(i) # outputnya\n",
    "    i -=1 # langkahnya"
   ]
  },
  {
   "cell_type": "markdown",
   "metadata": {},
   "source": [
    "# steatment break and continue\n"
   ]
  },
  {
   "cell_type": "code",
   "execution_count": 10,
   "metadata": {},
   "outputs": [
    {
     "name": "stdout",
     "output_type": "stream",
     "text": [
      "10\n",
      "9\n",
      "8\n",
      "7\n",
      "6\n"
     ]
    }
   ],
   "source": [
    "i = 10 # BREAK\n",
    "while i > 0:\n",
    "    if i == 5:\n",
    "        break\n",
    "    print(i)\n",
    "    i -= 1"
   ]
  },
  {
   "cell_type": "code",
   "execution_count": 12,
   "metadata": {},
   "outputs": [
    {
     "name": "stdout",
     "output_type": "stream",
     "text": [
      "9\n",
      "8\n",
      "7\n",
      "6\n",
      "4\n",
      "3\n",
      "2\n",
      "1\n",
      "0\n"
     ]
    }
   ],
   "source": [
    "i = 10 # CONTINUE\n",
    "while i > 0: # BATAS LOOPING\n",
    "    i -= 1 # LANGKAH\n",
    "    if i == 5: # KONDISI BREAK/CONTINUE\n",
    "        continue # BISA DIGANTI CONTINUE\n",
    "    print(i)"
   ]
  },
  {
   "cell_type": "markdown",
   "metadata": {},
   "source": [
    "# ELSE CLAUSE"
   ]
  },
  {
   "cell_type": "code",
   "execution_count": 16,
   "metadata": {},
   "outputs": [
    {
     "name": "stdout",
     "output_type": "stream",
     "text": [
      "8\n",
      "7\n",
      "6\n",
      "5\n",
      "4\n",
      "3\n",
      "2\n",
      "1\n",
      "BOOM DEFUSE\n",
      "Counter Terrorist WIN!!\n"
     ]
    }
   ],
   "source": [
    "i = 8\n",
    "while i > 0:\n",
    "    print(i)\n",
    "    i -= 1\n",
    "else: \n",
    "    print('BOOM DEFUSE')\n",
    "    print('Counter Terrorist WIN!!')"
   ]
  },
  {
   "cell_type": "code",
   "execution_count": 17,
   "metadata": {},
   "outputs": [
    {
     "name": "stdout",
     "output_type": "stream",
     "text": [
      "1 * 1 = 1\n",
      "1 * 2 = 2\n",
      "1 * 3 = 3\n",
      "2 * 1 = 2\n",
      "2 * 2 = 4\n",
      "2 * 3 = 6\n"
     ]
    }
   ],
   "source": [
    "i = 1\n",
    "while i <= 2:\n",
    "    j = 1\n",
    "    while j <=3:\n",
    "        print(f'{i} * {j} = {i*j}')\n",
    "        j += 1\n",
    "    i += 1"
   ]
  },
  {
   "cell_type": "markdown",
   "metadata": {},
   "source": [
    "# syntax loop"
   ]
  },
  {
   "cell_type": "code",
   "execution_count": 18,
   "metadata": {},
   "outputs": [
    {
     "name": "stdout",
     "output_type": "stream",
     "text": [
      "1\n",
      "2\n",
      "3\n",
      "4\n",
      "5\n"
     ]
    }
   ],
   "source": [
    "angka = [1, 2, 3, 4, 5]\n",
    "for i in angka:\n",
    "    print(i)"
   ]
  },
  {
   "cell_type": "markdown",
   "metadata": {},
   "source": [
    "# Range Function"
   ]
  },
  {
   "cell_type": "code",
   "execution_count": 19,
   "metadata": {},
   "outputs": [
    {
     "name": "stdout",
     "output_type": "stream",
     "text": [
      "1\n",
      "2\n",
      "3\n",
      "4\n",
      "5\n",
      "6\n",
      "7\n",
      "8\n",
      "9\n",
      "10\n"
     ]
    }
   ],
   "source": [
    "for i in range(1, 11):\n",
    "    print(i)"
   ]
  },
  {
   "cell_type": "markdown",
   "metadata": {},
   "source": [
    "# Altering Loop Behavior"
   ]
  },
  {
   "cell_type": "code",
   "execution_count": 20,
   "metadata": {},
   "outputs": [
    {
     "name": "stdout",
     "output_type": "stream",
     "text": [
      "1\n",
      "2\n",
      "3\n",
      "4\n"
     ]
    }
   ],
   "source": [
    "for i in range(1,11):\n",
    "    if i == 5:\n",
    "        break\n",
    "    print(i)"
   ]
  },
  {
   "cell_type": "code",
   "execution_count": 21,
   "metadata": {},
   "outputs": [
    {
     "name": "stdout",
     "output_type": "stream",
     "text": [
      "1\n",
      "2\n",
      "3\n",
      "4\n",
      "6\n",
      "7\n",
      "8\n",
      "9\n",
      "10\n"
     ]
    }
   ],
   "source": [
    "for i in range(1,11):\n",
    "    if i == 5:\n",
    "        continue\n",
    "    print(i)"
   ]
  },
  {
   "cell_type": "markdown",
   "metadata": {},
   "source": [
    "# Ternary Oprator Loop "
   ]
  },
  {
   "cell_type": "code",
   "execution_count": 23,
   "metadata": {},
   "outputs": [
    {
     "name": "stdout",
     "output_type": "stream",
     "text": [
      "[32.0, 50.0, 68.0, 86.0, 104.0]\n"
     ]
    }
   ],
   "source": [
    "suhu_C = [0, 10, 20, 30, 40]\n",
    "suhu_F = [(9/5)*suhu + 32 for suhu in suhu_C]\n",
    "\n",
    "print(suhu_F)"
   ]
  },
  {
   "cell_type": "code",
   "execution_count": 24,
   "metadata": {},
   "outputs": [
    {
     "name": "stdout",
     "output_type": "stream",
     "text": [
      "[86.0, 104.0]\n"
     ]
    }
   ],
   "source": [
    "suhu_C = [0, 10, 20, 30, 40]\n",
    "suhu_F = [(9/5)*suhu + 32 for suhu in suhu_C if suhu > 20]\n",
    "\n",
    "print(suhu_F)"
   ]
  },
  {
   "cell_type": "code",
   "execution_count": 29,
   "metadata": {},
   "outputs": [
    {
     "name": "stdout",
     "output_type": "stream",
     "text": [
      "1 adalah ganjil\n",
      "2 adalah genap\n",
      "3 adalah ganjil\n",
      "4 adalah genap\n",
      "5 adalah ganjil\n",
      "6 adalah genap\n",
      "7 adalah ganjil\n",
      "8 adalah genap\n",
      "9 adalah ganjil\n",
      "10 adalah genap\n"
     ]
    }
   ],
   "source": [
    "for i in range(1, 11):\n",
    "    jenis = 'ganjil' if i % 2 != 0 else 'genap'\n",
    "    print(f'{i} adalah {jenis}')"
   ]
  },
  {
   "cell_type": "markdown",
   "metadata": {},
   "source": [
    "# Enumerate"
   ]
  },
  {
   "cell_type": "code",
   "execution_count": 62,
   "metadata": {},
   "outputs": [
    {
     "name": "stdout",
     "output_type": "stream",
     "text": [
      "tabis ke-1 adalah tingkiwingki\n",
      "tabis ke-2 adalah dipsi\n",
      "tabis ke-3 adalah lala\n",
      "tabis ke-4 adalah poo\n"
     ]
    }
   ],
   "source": [
    "daftar_teletabis = ['tingkiwingki', 'dipsi', 'lala', 'poo']\n",
    "\n",
    "for i, tubis in enumerate(daftar_teletabis):\n",
    "    print(f'tabis ke-{i+1} adalah {tubis}')"
   ]
  },
  {
   "cell_type": "markdown",
   "metadata": {},
   "source": [
    "# EXERCISE"
   ]
  },
  {
   "cell_type": "markdown",
   "metadata": {},
   "source": [
    "### number 1"
   ]
  },
  {
   "cell_type": "code",
   "execution_count": 53,
   "metadata": {},
   "outputs": [
    {
     "name": "stdout",
     "output_type": "stream",
     "text": [
      "1\n",
      "22\n",
      "333\n",
      "4444\n",
      "55555\n",
      "666666\n",
      "7777777\n",
      "88888888\n",
      "999999999\n"
     ]
    }
   ],
   "source": [
    "i = 1 #LOGIC KU\n",
    "j = 1\n",
    "while i <= 9:\n",
    "    \n",
    "    while j <= i:\n",
    "        print(f'{i}'*j)\n",
    "        j += 1\n",
    "    i += 1"
   ]
  },
  {
   "cell_type": "code",
   "execution_count": 59,
   "metadata": {},
   "outputs": [
    {
     "name": "stdout",
     "output_type": "stream",
     "text": [
      "1\n",
      "22\n",
      "333\n",
      "4444\n",
      "55555\n",
      "666666\n",
      "7777777\n",
      "88888888\n",
      "999999999\n"
     ]
    }
   ],
   "source": [
    "for i in range(1, 10): #LOGIC KA LIS\n",
    "    for j in range(i):\n",
    "        print(i, end='')\n",
    "    print()"
   ]
  },
  {
   "cell_type": "code",
   "execution_count": 60,
   "metadata": {},
   "outputs": [
    {
     "name": "stdout",
     "output_type": "stream",
     "text": [
      "1\n",
      "22\n",
      "333\n",
      "4444\n",
      "55555\n",
      "666666\n",
      "7777777\n",
      "88888888\n",
      "999999999\n"
     ]
    }
   ],
   "source": [
    "for n in range(1,10): #LOGIC MICHAEL\n",
    "    print(str(n) * n)"
   ]
  },
  {
   "cell_type": "markdown",
   "metadata": {},
   "source": [
    "### number 2"
   ]
  },
  {
   "cell_type": "code",
   "execution_count": 56,
   "metadata": {},
   "outputs": [
    {
     "name": "stdout",
     "output_type": "stream",
     "text": [
      "BOLEEE....\n"
     ]
    }
   ],
   "source": [
    "\n",
    "password = \"satusampai8!\"\n",
    "flag = 0\n",
    "while True:\n",
    "    if (len(password)<=8):\n",
    "        flag = -1\n",
    "        break\n",
    "    elif not (\"[a-z]\", password):\n",
    "        flag = -1\n",
    "        break\n",
    "    elif not (\"[A-Z]\", password):\n",
    "        flag = -1\n",
    "        break\n",
    "    elif not (\"[0-9]\", password):\n",
    "        flag = -1\n",
    "        break\n",
    "    elif not (\"[!*#]\" , password):\n",
    "        flag = -1\n",
    "        break\n",
    "    else:\n",
    "        flag = 0\n",
    "        print(\"BOLEEE....\")\n",
    "        break\n",
    " \n",
    "if flag == -1:\n",
    "    print(\"REVISI!!\")"
   ]
  },
  {
   "cell_type": "code",
   "execution_count": 2,
   "metadata": {},
   "outputs": [
    {
     "name": "stdout",
     "output_type": "stream",
     "text": [
      "A BOYEH!!\n"
     ]
    }
   ],
   "source": [
    "password = \"pasword123!\"\n",
    "\n",
    "huruf_kecil = False\n",
    "huruf_besar = False\n",
    "angka = False\n",
    "karakter_khusus = False\n",
    "panjang = False\n",
    "\n",
    "for char in password:\n",
    "    if char.islower():\n",
    "        huruf_kecil = True\n",
    "    elif char.isupper():\n",
    "        huruf_besar = True\n",
    "    elif char.isdigit():\n",
    "        angka = True\n",
    "    elif char in \"!@#\":\n",
    "        karakter_khusus = True\n",
    "\n",
    "if 6<= len(password) <= 16:\n",
    "    panjang = True\n",
    "\n",
    "if huruf_kecil and huruf_besar and angka and karakter_khusus and panjang:\n",
    "    print(\"BOLEE....\")\n",
    "    \n",
    "else:\n",
    "    print(\"A BOYEH!!\")"
   ]
  },
  {
   "cell_type": "markdown",
   "metadata": {},
   "source": [
    "# JAM SIANG"
   ]
  },
  {
   "cell_type": "markdown",
   "metadata": {},
   "source": [
    "# Functions"
   ]
  },
  {
   "cell_type": "code",
   "execution_count": 64,
   "metadata": {},
   "outputs": [
    {
     "name": "stdout",
     "output_type": "stream",
     "text": [
      "168010\n",
      "None\n"
     ]
    }
   ],
   "source": [
    "def tambah(a,b):\n",
    "    print(a+b)\n",
    "\n",
    "hasil = tambah(92739,75271)\n",
    "print(hasil)\n"
   ]
  },
  {
   "cell_type": "code",
   "execution_count": 65,
   "metadata": {},
   "outputs": [
    {
     "name": "stdout",
     "output_type": "stream",
     "text": [
      "168010\n"
     ]
    }
   ],
   "source": [
    "def tambah(a,b):\n",
    "    return a + b\n",
    "\n",
    "hasil = tambah(92739,75271)\n",
    "print(hasil)\n"
   ]
  },
  {
   "cell_type": "markdown",
   "metadata": {},
   "source": [
    "# Variable Function\n",
    "### lokal & global"
   ]
  },
  {
   "cell_type": "code",
   "execution_count": 1,
   "metadata": {},
   "outputs": [
    {
     "name": "stdout",
     "output_type": "stream",
     "text": [
      "168010\n"
     ]
    }
   ],
   "source": [
    "def tambah(a,b):\n",
    "    return a + b\n",
    "\n",
    "hasil = tambah(92739,75271)\n",
    "print(hasil)\n"
   ]
  },
  {
   "cell_type": "code",
   "execution_count": 66,
   "metadata": {},
   "outputs": [
    {
     "name": "stdout",
     "output_type": "stream",
     "text": [
      "halo, Saya! siapa ?\n"
     ]
    }
   ],
   "source": [
    "def salam(nama, pesan):\n",
    "    print(f'halo, {nama} {pesan}')\n",
    "\n",
    "salam('Saya', 'siapa ?')"
   ]
  },
  {
   "cell_type": "code",
   "execution_count": 71,
   "metadata": {},
   "outputs": [],
   "source": [
    "def salam(nama='luwak', pesan='paswwordnya?'):\n",
    "    print(f'halo {nama} {pesan}')\n",
    "\n",
    "    salam('luwak', 'passwordnya?')"
   ]
  },
  {
   "cell_type": "code",
   "execution_count": 72,
   "metadata": {},
   "outputs": [
    {
     "name": "stdout",
     "output_type": "stream",
     "text": [
      "budi berumur 9 tahun.\n",
      "budi berumur 9 tahun.\n"
     ]
    }
   ],
   "source": [
    "def deskripsi(nama, umur):\n",
    "    print(f\"{nama} berumur {9} tahun.\")\n",
    "\n",
    "deskripsi(nama=\"budi\",umur=9)\n",
    "deskripsi(umur=9, nama=\"budi\")"
   ]
  },
  {
   "cell_type": "code",
   "execution_count": 74,
   "metadata": {},
   "outputs": [
    {
     "name": "stdout",
     "output_type": "stream",
     "text": [
      "aktifitas belanja siapa:\n",
      "menambahkan sepeda kelipet ke keranjang sopiii.\n",
      "menambahkan gambaran, gambar boboboi ke keranjang sopiii.\n"
     ]
    }
   ],
   "source": [
    "def belanja(name, *barang):\n",
    "    print(f\"aktifitas belanja {name}:\")\n",
    "    for b in barang:\n",
    "        print(f\"menambahkan {b} ke keranjang sopiii.\")\n",
    "\n",
    "belanja(\"siapa\", \"sepeda kelipet\", \"gambaran, gambar boboboi\")"
   ]
  },
  {
   "cell_type": "code",
   "execution_count": 75,
   "metadata": {},
   "outputs": [
    {
     "data": {
      "text/plain": [
       "{'nama': 'saya', 'umur': 20, 'kota': 'katik'}"
      ]
     },
     "execution_count": 75,
     "metadata": {},
     "output_type": "execute_result"
    }
   ],
   "source": [
    "def getUser(**kwargs):\n",
    "    return kwargs\n",
    "\n",
    "getUser(nama='saya', umur=20, kota=\"katik\")"
   ]
  },
  {
   "cell_type": "code",
   "execution_count": 76,
   "metadata": {},
   "outputs": [
    {
     "data": {
      "text/plain": [
       "8"
      ]
     },
     "execution_count": 76,
     "metadata": {},
     "output_type": "execute_result"
    }
   ],
   "source": [
    "tambah = lambda x, y: x + y\n",
    "\n",
    "tambah(5, 3)"
   ]
  },
  {
   "cell_type": "code",
   "execution_count": 77,
   "metadata": {},
   "outputs": [
    {
     "data": {
      "text/plain": [
       "[1, 4, 9, 16]"
      ]
     },
     "execution_count": 77,
     "metadata": {},
     "output_type": "execute_result"
    }
   ],
   "source": [
    "numbers = [1, 2, 3, 4]\n",
    "squared = map(lambda x: x ** 2, numbers)\n",
    "\n",
    "list(squared)"
   ]
  }
 ],
 "metadata": {
  "kernelspec": {
   "display_name": "Python 3",
   "language": "python",
   "name": "python3"
  },
  "language_info": {
   "codemirror_mode": {
    "name": "ipython",
    "version": 3
   },
   "file_extension": ".py",
   "mimetype": "text/x-python",
   "name": "python",
   "nbconvert_exporter": "python",
   "pygments_lexer": "ipython3",
   "version": "3.12.3"
  }
 },
 "nbformat": 4,
 "nbformat_minor": 2
}
